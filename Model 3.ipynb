{
 "cells": [
  {
   "cell_type": "markdown",
   "metadata": {},
   "source": [
    "# References\n",
    "\n",
    "Bojarski, Mariusz& Testa, Davide& Dworakowski, Daniel & Firner, Bernhard & Flepp, Beat & Goyal, Prasoon& Jackel, Larry & Monfort, Mathew & Muller, Urs& Zhang, Jiakai& Zhang, Xin & Zhao, Jake & Zieba, Karol. (2016). End to End Learning for Self-Driving Cars."
   ]
  },
  {
   "cell_type": "markdown",
   "metadata": {},
   "source": [
    "# Installing the Environment\n",
    "\n",
    "1. ```conda create -n self-driving-car```\n",
    "2. ```conda activate self-driving-car```\n",
    "3. ```pip install -r requirements.txt```"
   ]
  },
  {
   "cell_type": "code",
   "execution_count": 48,
   "metadata": {},
   "outputs": [],
   "source": [
    "import os\n",
    "import csv\n",
    "import cv2\n",
    "import matplotlib.pyplot as plt\n",
    "import random"
   ]
  },
  {
   "cell_type": "markdown",
   "metadata": {},
   "source": [
    "OS - Interact with the operating system. It allows you to perform operations such as creating, deleting, renaming files and directories\n",
    "\n",
    "CSV - This module allows you to read and write data in CSV\n"
   ]
  },
  {
   "cell_type": "code",
   "execution_count": 49,
   "metadata": {},
   "outputs": [],
   "source": [
    "data_path='data_02'\n",
    "label_path='data_02/driving_log.csv'"
   ]
  },
  {
   "cell_type": "code",
   "execution_count": 50,
   "metadata": {
    "scrolled": true
   },
   "outputs": [
    {
     "data": {
      "text/html": [
       "<div>\n",
       "<style scoped>\n",
       "    .dataframe tbody tr th:only-of-type {\n",
       "        vertical-align: middle;\n",
       "    }\n",
       "\n",
       "    .dataframe tbody tr th {\n",
       "        vertical-align: top;\n",
       "    }\n",
       "\n",
       "    .dataframe thead th {\n",
       "        text-align: right;\n",
       "    }\n",
       "</style>\n",
       "<table border=\"1\" class=\"dataframe\">\n",
       "  <thead>\n",
       "    <tr style=\"text-align: right;\">\n",
       "      <th></th>\n",
       "      <th>D:\\Y4\\S1\\AI and ML\\Self Driving Car\\data_02\\IMG\\center_2024_05_16_23_04_44_998.jpg</th>\n",
       "      <th>D:\\Y4\\S1\\AI and ML\\Self Driving Car\\data_02\\IMG\\left_2024_05_16_23_04_44_998.jpg</th>\n",
       "      <th>D:\\Y4\\S1\\AI and ML\\Self Driving Car\\data_02\\IMG\\right_2024_05_16_23_04_44_998.jpg</th>\n",
       "      <th>0</th>\n",
       "      <th>0.1</th>\n",
       "      <th>0.2</th>\n",
       "      <th>1.46E-05</th>\n",
       "    </tr>\n",
       "  </thead>\n",
       "  <tbody>\n",
       "    <tr>\n",
       "      <th>0</th>\n",
       "      <td>D:\\Y4\\S1\\AI and ML\\Self Driving Car\\data_02\\IM...</td>\n",
       "      <td>D:\\Y4\\S1\\AI and ML\\Self Driving Car\\data_02\\IM...</td>\n",
       "      <td>D:\\Y4\\S1\\AI and ML\\Self Driving Car\\data_02\\IM...</td>\n",
       "      <td>0.0</td>\n",
       "      <td>0.0</td>\n",
       "      <td>0.0</td>\n",
       "      <td>0.000011</td>\n",
       "    </tr>\n",
       "    <tr>\n",
       "      <th>1</th>\n",
       "      <td>D:\\Y4\\S1\\AI and ML\\Self Driving Car\\data_02\\IM...</td>\n",
       "      <td>D:\\Y4\\S1\\AI and ML\\Self Driving Car\\data_02\\IM...</td>\n",
       "      <td>D:\\Y4\\S1\\AI and ML\\Self Driving Car\\data_02\\IM...</td>\n",
       "      <td>0.0</td>\n",
       "      <td>0.0</td>\n",
       "      <td>0.0</td>\n",
       "      <td>0.000012</td>\n",
       "    </tr>\n",
       "    <tr>\n",
       "      <th>2</th>\n",
       "      <td>D:\\Y4\\S1\\AI and ML\\Self Driving Car\\data_02\\IM...</td>\n",
       "      <td>D:\\Y4\\S1\\AI and ML\\Self Driving Car\\data_02\\IM...</td>\n",
       "      <td>D:\\Y4\\S1\\AI and ML\\Self Driving Car\\data_02\\IM...</td>\n",
       "      <td>0.0</td>\n",
       "      <td>0.0</td>\n",
       "      <td>0.0</td>\n",
       "      <td>0.000024</td>\n",
       "    </tr>\n",
       "    <tr>\n",
       "      <th>3</th>\n",
       "      <td>D:\\Y4\\S1\\AI and ML\\Self Driving Car\\data_02\\IM...</td>\n",
       "      <td>D:\\Y4\\S1\\AI and ML\\Self Driving Car\\data_02\\IM...</td>\n",
       "      <td>D:\\Y4\\S1\\AI and ML\\Self Driving Car\\data_02\\IM...</td>\n",
       "      <td>0.0</td>\n",
       "      <td>0.0</td>\n",
       "      <td>0.0</td>\n",
       "      <td>0.000003</td>\n",
       "    </tr>\n",
       "    <tr>\n",
       "      <th>4</th>\n",
       "      <td>D:\\Y4\\S1\\AI and ML\\Self Driving Car\\data_02\\IM...</td>\n",
       "      <td>D:\\Y4\\S1\\AI and ML\\Self Driving Car\\data_02\\IM...</td>\n",
       "      <td>D:\\Y4\\S1\\AI and ML\\Self Driving Car\\data_02\\IM...</td>\n",
       "      <td>0.0</td>\n",
       "      <td>0.0</td>\n",
       "      <td>0.0</td>\n",
       "      <td>0.000006</td>\n",
       "    </tr>\n",
       "  </tbody>\n",
       "</table>\n",
       "</div>"
      ],
      "text/plain": [
       "  D:\\Y4\\S1\\AI and ML\\Self Driving Car\\data_02\\IMG\\center_2024_05_16_23_04_44_998.jpg  \\\n",
       "0  D:\\Y4\\S1\\AI and ML\\Self Driving Car\\data_02\\IM...                                   \n",
       "1  D:\\Y4\\S1\\AI and ML\\Self Driving Car\\data_02\\IM...                                   \n",
       "2  D:\\Y4\\S1\\AI and ML\\Self Driving Car\\data_02\\IM...                                   \n",
       "3  D:\\Y4\\S1\\AI and ML\\Self Driving Car\\data_02\\IM...                                   \n",
       "4  D:\\Y4\\S1\\AI and ML\\Self Driving Car\\data_02\\IM...                                   \n",
       "\n",
       "  D:\\Y4\\S1\\AI and ML\\Self Driving Car\\data_02\\IMG\\left_2024_05_16_23_04_44_998.jpg  \\\n",
       "0  D:\\Y4\\S1\\AI and ML\\Self Driving Car\\data_02\\IM...                                 \n",
       "1  D:\\Y4\\S1\\AI and ML\\Self Driving Car\\data_02\\IM...                                 \n",
       "2  D:\\Y4\\S1\\AI and ML\\Self Driving Car\\data_02\\IM...                                 \n",
       "3  D:\\Y4\\S1\\AI and ML\\Self Driving Car\\data_02\\IM...                                 \n",
       "4  D:\\Y4\\S1\\AI and ML\\Self Driving Car\\data_02\\IM...                                 \n",
       "\n",
       "  D:\\Y4\\S1\\AI and ML\\Self Driving Car\\data_02\\IMG\\right_2024_05_16_23_04_44_998.jpg  \\\n",
       "0  D:\\Y4\\S1\\AI and ML\\Self Driving Car\\data_02\\IM...                                  \n",
       "1  D:\\Y4\\S1\\AI and ML\\Self Driving Car\\data_02\\IM...                                  \n",
       "2  D:\\Y4\\S1\\AI and ML\\Self Driving Car\\data_02\\IM...                                  \n",
       "3  D:\\Y4\\S1\\AI and ML\\Self Driving Car\\data_02\\IM...                                  \n",
       "4  D:\\Y4\\S1\\AI and ML\\Self Driving Car\\data_02\\IM...                                  \n",
       "\n",
       "     0  0.1  0.2  1.46E-05  \n",
       "0  0.0  0.0  0.0  0.000011  \n",
       "1  0.0  0.0  0.0  0.000012  \n",
       "2  0.0  0.0  0.0  0.000024  \n",
       "3  0.0  0.0  0.0  0.000003  \n",
       "4  0.0  0.0  0.0  0.000006  "
      ]
     },
     "execution_count": 50,
     "metadata": {},
     "output_type": "execute_result"
    }
   ],
   "source": [
    "import pandas as pd\n",
    "import numpy as np\n",
    "\n",
    "dataset=pd.read_csv(label_path)\n",
    "dataset.head()"
   ]
  },
  {
   "cell_type": "markdown",
   "metadata": {},
   "source": [
    "**INPUT_SHAPE** is a tuple that combines the height, width, and color channels into a single variable"
   ]
  },
  {
   "cell_type": "code",
   "execution_count": 51,
   "metadata": {},
   "outputs": [],
   "source": [
    "IMAGE_HEIGHT, IMAGE_WIDTH, IMAGE_CHANNELS = 66, 200, 3\n",
    "INPUT_SHAPE = (IMAGE_HEIGHT, IMAGE_WIDTH, IMAGE_CHANNELS)"
   ]
  },
  {
   "cell_type": "markdown",
   "metadata": {},
   "source": [
    "**.vlaues** convert the dataframe to array into numpy array"
   ]
  },
  {
   "cell_type": "code",
   "execution_count": 52,
   "metadata": {},
   "outputs": [],
   "source": [
    "dataset=dataset.values\n",
    "data=dataset[:,0:3]\n",
    "target=dataset[:,3]"
   ]
  },
  {
   "cell_type": "code",
   "execution_count": 53,
   "metadata": {},
   "outputs": [],
   "source": [
    "from sklearn.model_selection import train_test_split\n",
    "train_data,test_data,train_target,test_target=train_test_split(data,target,test_size=0.1)"
   ]
  },
  {
   "cell_type": "code",
   "execution_count": 54,
   "metadata": {},
   "outputs": [],
   "source": [
    "def load_image(data_dir):\n",
    "\n",
    "    img=cv2.imread(data_dir)\n",
    "    img=cv2.cvtColor(img,cv2.COLOR_BGR2RGB)\n",
    "    \n",
    "    return img"
   ]
  },
  {
   "cell_type": "markdown",
   "metadata": {},
   "source": [
    "1.  image cropping by removing the top 60 rows and bottom 25 rows from the input image. **:** selects all columns and color channels\n",
    "2. **cv2.INTER_AREA** flag specifies the interpolation method used for resizing, which is suitable for shrinking images."
   ]
  },
  {
   "cell_type": "code",
   "execution_count": 55,
   "metadata": {},
   "outputs": [],
   "source": [
    "def preprocess(img):\n",
    "\n",
    "    # Cropping the image\n",
    "    img = img[60:-25, :, :]\n",
    "    # Resizing the image\n",
    "    img = cv2.resize(img, (IMAGE_WIDTH, IMAGE_HEIGHT), cv2.INTER_AREA)\n",
    "    # Converting the image to YUV\n",
    "    img = cv2.cvtColor(img, cv2.COLOR_RGB2YUV)\n",
    "    return img"
   ]
  },
  {
   "cell_type": "markdown",
   "metadata": {},
   "source": [
    "1. **np.random.choice(3)** randomly selects an integer from 0, 1, or 2 with equal probability.\n",
    "If the randomly chosen integer is 0, the function returns the center image **(load_image(center))** and the original steering angle (steering_angle) without any modification.\n",
    "2. If the randomly chosen integer is 1, the function returns the left image **(load_image(left))** and adjusts the steering angle by adding 0.2 **(steering_angle + 0.2)**.\n",
    "3. If the randomly chosen integer is 2, the function returns the right image **(load_image(right))** and adjusts the steering angle by subtracting 0.2 **(steering_angle - 0.2)**."
   ]
  },
  {
   "cell_type": "code",
   "execution_count": 56,
   "metadata": {},
   "outputs": [],
   "source": [
    "def random_adjust(center, left, right, steering_angle):\n",
    "\n",
    "    choice = np.random.choice(3)\n",
    "    \n",
    "    if choice == 0:\n",
    "        \n",
    "        return load_image(center), steering_angle\n",
    "    \n",
    "    elif choice == 1:\n",
    "        \n",
    "        return load_image(left), steering_angle + 0.2\n",
    "    \n",
    "    else:\n",
    "    \n",
    "        return load_image(right), steering_angle - 0.2"
   ]
  },
  {
   "cell_type": "code",
   "execution_count": 57,
   "metadata": {},
   "outputs": [],
   "source": [
    "def display(image, angle, label):\n",
    "    plt.imshow(image)\n",
    "    plt.xlabel(\"Steering angle: {:.5f}\".format(angle))\n",
    "    plt.title(label)\n",
    "    plt.xticks([])\n",
    "    plt.yticks([])\n",
    "    plt.show()"
   ]
  },
  {
   "cell_type": "markdown",
   "metadata": {},
   "source": [
    "**random_flip** function performs random horizontal flipping of input images and adjusts the corresponding steering angle. Its one of the agumentation technique used.\n",
    "\n",
    "**np.random.rand() < 0.5** random number between 0 and 1 using NumPy's random number generator. If the random number is less than 0.5, the condition is true, and the image will be flipped horizontally\n",
    "\n",
    "A positive steering angle typically means turning right, and a negative steering angle means turning left"
   ]
  },
  {
   "cell_type": "code",
   "execution_count": 58,
   "metadata": {},
   "outputs": [],
   "source": [
    "def random_flip(image, steering_angle):\n",
    "\n",
    "    if np.random.rand() < 0.5:\n",
    "        image = cv2.flip(image, 1)\n",
    "        steering_angle = -steering_angle\n",
    "    return image, steering_angle"
   ]
  },
  {
   "cell_type": "markdown",
   "metadata": {},
   "source": [
    "Randomly translating the images during training\n",
    "\n",
    "**random_shift** function performs random translational shifting of input images and adjusts the corresponding steering angle. it generates two random values, **trans_x** and **trans_y**, within the specified ranges using np.**random.rand()**. Then adjusts the **steering_angle** based on the **trans_x** offset (adjustment is important because translating the image horizontally affects the perceived steering angle)\n",
    "\n",
    "**cv2.warpAffine** is used to apply the translational transformation to the input image. The function returns the transformed image and the adjusted steering angle"
   ]
  },
  {
   "cell_type": "code",
   "execution_count": 59,
   "metadata": {},
   "outputs": [],
   "source": [
    "def random_shift(image, steering_angle, range_x, range_y):\n",
    "\n",
    "    trans_x = range_x * (np.random.rand() - 0.5)\n",
    "    trans_y = range_y * (np.random.rand() - 0.5)\n",
    "    steering_angle += trans_x * 0.002\n",
    "    trans_m = np.float32([[1, 0, trans_x], [0, 1, trans_y]])\n",
    "    height, width = image.shape[:2]\n",
    "    image = cv2.warpAffine(image, trans_m, (width, height))\n",
    "    return image, steering_angle"
   ]
  },
  {
   "cell_type": "markdown",
   "metadata": {},
   "source": [
    "Below function takes an input image and starts by defining a **bright_factor** of 0.3, which will be used to darken a random region of the image, simulating a shadow effect.\n",
    "\n",
    "Then generates random coordinates (x, y) and dimensions (width, height) for a rectangular region within the input image. heAfter that it converts the input image from the **RGB** colour space to the **HSV** colour space using **cv2.cvtColor**. (it important to shadowing effect will be applied to the Value (V) channel of the HSV image)"
   ]
  },
  {
   "cell_type": "code",
   "execution_count": 60,
   "metadata": {},
   "outputs": [],
   "source": [
    "def random_shadow(image):\n",
    "\n",
    "    bright_factor = 0.3\n",
    "    x = random.randint(0, image.shape[1])\n",
    "    y = random.randint(0, image.shape[0])\n",
    "    width = random.randint(image.shape[1], image.shape[1])\n",
    "    if(x + width > image.shape[1]):\n",
    "        x = image.shape[1] - x\n",
    "    height = random.randint(image.shape[0], image.shape[0])\n",
    "    if(y + height > image.shape[0]):\n",
    "        y = image.shape[0] - y\n",
    "    image = cv2.cvtColor(image, cv2.COLOR_RGB2HSV)\n",
    "    image[y:y+height,x:x+width,2] = image[y:y+height,x:x+width,2]*bright_factor\n",
    "    return cv2.cvtColor(image, cv2.COLOR_HSV2RGB)"
   ]
  },
  {
   "cell_type": "markdown",
   "metadata": {},
   "source": [
    "**random_brightness** - This function randomly adjusts the brightness of the input image, simulating varying lighting conditions. \n",
    "\n",
    "If the ratio is greater than 1.0, the pixels will become brighter, creating a overexposed img. If the ratio is less than 1.0, the pixels will become darker, creating a  underexposed img."
   ]
  },
  {
   "cell_type": "code",
   "execution_count": 61,
   "metadata": {},
   "outputs": [],
   "source": [
    "def random_brightness(image):\n",
    "\n",
    "    # HSV (Hue, Saturation, Value) is also called HSB ('B' for Brightness).\n",
    "    hsv = cv2.cvtColor(image, cv2.COLOR_RGB2HSV)\n",
    "    ratio = 1.0 + (np.random.rand() - 0.5)\n",
    "    hsv[:,:,2] =  hsv[:,:,2] * ratio\n",
    "    return cv2.cvtColor(hsv, cv2.COLOR_HSV2RGB)"
   ]
  },
  {
   "cell_type": "markdown",
   "metadata": {},
   "source": [
    "# Augmentation Function"
   ]
  },
  {
   "cell_type": "markdown",
   "metadata": {},
   "source": [
    " Here the below function that combines multiple data augmentation techniques to create a diverse set of augmented images and corresponding steering angles from the input center, left, and right camera images and the initial steering angle. \n",
    "\n",
    " After applying all these data augmentation techniques, the function returns the augmented image and the corresponding adjusted steering angle."
   ]
  },
  {
   "cell_type": "code",
   "execution_count": 62,
   "metadata": {},
   "outputs": [],
   "source": [
    "def augument(center, left, right, steering_angle, range_x=100, range_y=10):\n",
    "\n",
    "    image, steering_angle = random_adjust(center, left, right, steering_angle)\n",
    "    image, steering_angle = random_flip(image, steering_angle)\n",
    "    image, steering_angle = random_shift(image, steering_angle, range_x, range_y)\n",
    "    image = random_shadow(image)\n",
    "    image = random_brightness(image)\n",
    "    return image, steering_angle"
   ]
  },
  {
   "cell_type": "markdown",
   "metadata": {},
   "source": [
    "# Nvidia CNN"
   ]
  },
  {
   "cell_type": "code",
   "execution_count": 63,
   "metadata": {},
   "outputs": [],
   "source": [
    "# from keras.models import Sequential\n",
    "# from keras.optimizers import Adam\n",
    "# from keras.callbacks import ModelCheckpoint\n",
    "# from keras.layers import Lambda, Conv2D, MaxPooling2D, Dropout, Dense, Flatten\n",
    "# from keras.regularizers import l2\n",
    "\n",
    "# def NVIDIA_model():\n",
    "    \n",
    "#     model = Sequential()\n",
    "#     model.add(Lambda(lambda x: x/127.5-1.0, input_shape=INPUT_SHAPE))\n",
    "#     model.add(Conv2D(24, (5, 5), activation='elu', strides=(2, 2)))\n",
    "#     model.add(Conv2D(36, (5, 5), activation='elu', strides=(2, 2)))\n",
    "#     model.add(Conv2D(48, (5, 5), activation='elu', strides=(2, 2)))\n",
    "#     model.add(Conv2D(64, (3, 3), activation='elu'))\n",
    "#     model.add(Conv2D(64, (3, 3), activation='elu'))\n",
    "#     model.add(Dropout(0.5))\n",
    "#     model.add(Flatten())\n",
    "#     model.add(Dense(100, activation='elu'))\n",
    "#     model.add(Dense(50, activation='elu'))\n",
    "#     model.add(Dense(10, activation='elu'))\n",
    "#     model.add(Dense(1))\n",
    "#     #model.summary()\n",
    "    \n",
    "#     model.compile(loss='mse', optimizer=Adam(lr=1.0e-4))\n",
    "    \n",
    "#     return model\n",
    "\n",
    "# model.summary()"
   ]
  },
  {
   "cell_type": "code",
   "execution_count": 64,
   "metadata": {},
   "outputs": [],
   "source": [
    "from keras.layers import BatchNormalization"
   ]
  },
  {
   "cell_type": "code",
   "execution_count": 65,
   "metadata": {},
   "outputs": [],
   "source": [
    "from keras.models import Sequential\n",
    "from keras.optimizers import Adam\n",
    "from keras.callbacks import ModelCheckpoint, EarlyStopping, ReduceLROnPlateau\n",
    "from keras.layers import Lambda, Conv2D, MaxPooling2D, Dropout, Dense, Flatten\n",
    "from keras.regularizers import l2\n",
    "from keras.initializers import he_normal\n",
    "\n",
    "def NVIDIA_model():\n",
    "    model = Sequential()\n",
    "    model.add(Lambda(lambda x: x / 127.5 - 1.0, input_shape=INPUT_SHAPE))\n",
    "    model.add(Conv2D(24, (5, 5), activation='elu', strides=(2, 2), kernel_regularizer=l2(0.001),kernel_initializer=he_normal()))\n",
    "    model.add(BatchNormalization())\n",
    "    model.add(Conv2D(36, (5, 5), activation='elu', strides=(2, 2), kernel_regularizer=l2(0.001),kernel_initializer=he_normal()))\n",
    "    model.add(BatchNormalization())\n",
    "    model.add(Conv2D(48, (5, 5), activation='elu', strides=(2, 2), kernel_regularizer=l2(0.001),kernel_initializer=he_normal()))\n",
    "    model.add(BatchNormalization())\n",
    "    model.add(Conv2D(64, (3, 3), activation='elu', kernel_regularizer=l2(0.001),kernel_initializer=he_normal()))\n",
    "    model.add(BatchNormalization())\n",
    "    model.add(Conv2D(64, (3, 3), activation='elu', kernel_regularizer=l2(0.0001),kernel_initializer=he_normal()))\n",
    "    model.add(BatchNormalization())\n",
    "    model.add(Dropout(0.5))\n",
    "    model.add(Flatten())\n",
    "    model.add(Dense(512))\n",
    "    model.add(BatchNormalization())\n",
    "    model.add(Dense(256))\n",
    "    model.add(BatchNormalization())\n",
    "    model.add(Dense(128))\n",
    "    model.add(BatchNormalization())\n",
    "    #model.add(Dense(128, activation='elu', kernel_regularizer=l2(0.001),kernel_initializer=he_normal()))\n",
    "    # model.add(Dense(64, activation='elu', kernel_regularizer=l2(0.001)))\n",
    "    #model.add(Dense(32, activation='elu', kernel_regularizer=l2(0.001)))\n",
    "\n",
    "    model.add(Dense(1))\n",
    "    model.compile(loss='mse', optimizer=Adam(lr=1.0e-4))\n",
    "    model.summary()\n",
    "    \n",
    "    return model"
   ]
  },
  {
   "cell_type": "markdown",
   "metadata": {},
   "source": [
    "This is a Generator function that is used to create batches of input data (images and corresponding steering angles) for training or evaluation.\n",
    "\n",
    "The **batcher** function is designed to be used in a loop or with other data loading mechanisms to continuously generate batches of data for training or evaluation. During training, the function applies various data augmentation techniques to the input images with a **60%** probability, which helps increase the diversity of the training data and improve the model's generalization ability"
   ]
  },
  {
   "cell_type": "code",
   "execution_count": 66,
   "metadata": {},
   "outputs": [],
   "source": [
    "def batcher(image_paths, steering_angles, batch_size, training_flag):\n",
    "\n",
    "    images = np.empty([batch_size, IMAGE_HEIGHT, IMAGE_WIDTH, IMAGE_CHANNELS])\n",
    "    steers = np.empty(batch_size)\n",
    "    while True:\n",
    "        i = 0\n",
    "        for index in np.random.permutation(image_paths.shape[0]):\n",
    "            center, left, right = image_paths[index]\n",
    "            steering_angle = steering_angles[index]\n",
    "            if training_flag and np.random.rand() < 0.6:\n",
    "                image, steering_angle = augument(center, left, right, steering_angle)\n",
    "            else:\n",
    "                image = load_image(center) \n",
    "            images[i] = preprocess(image)\n",
    "            steers[i] = steering_angle\n",
    "            i += 1\n",
    "            if i == batch_size:\n",
    "                break\n",
    "        yield images, steers"
   ]
  },
  {
   "cell_type": "code",
   "execution_count": 67,
   "metadata": {},
   "outputs": [],
   "source": [
    "batch_size = 20\n",
    "samples_per_epoch = 2000\n",
    "nb_epoch = 30"
   ]
  },
  {
   "cell_type": "code",
   "execution_count": 68,
   "metadata": {},
   "outputs": [
    {
     "name": "stdout",
     "output_type": "stream",
     "text": [
      "Model: \"sequential_13\"\n",
      "_________________________________________________________________\n",
      "Layer (type)                 Output Shape              Param #   \n",
      "=================================================================\n",
      "lambda_13 (Lambda)           (None, 66, 200, 3)        0         \n",
      "_________________________________________________________________\n",
      "conv2d_66 (Conv2D)           (None, 31, 98, 24)        1824      \n",
      "_________________________________________________________________\n",
      "batch_normalization_101 (Bat (None, 31, 98, 24)        96        \n",
      "_________________________________________________________________\n",
      "conv2d_67 (Conv2D)           (None, 14, 47, 36)        21636     \n",
      "_________________________________________________________________\n",
      "batch_normalization_102 (Bat (None, 14, 47, 36)        144       \n",
      "_________________________________________________________________\n",
      "conv2d_68 (Conv2D)           (None, 5, 22, 48)         43248     \n",
      "_________________________________________________________________\n",
      "batch_normalization_103 (Bat (None, 5, 22, 48)         192       \n",
      "_________________________________________________________________\n",
      "conv2d_69 (Conv2D)           (None, 3, 20, 64)         27712     \n",
      "_________________________________________________________________\n",
      "batch_normalization_104 (Bat (None, 3, 20, 64)         256       \n",
      "_________________________________________________________________\n",
      "conv2d_70 (Conv2D)           (None, 1, 18, 64)         36928     \n",
      "_________________________________________________________________\n",
      "batch_normalization_105 (Bat (None, 1, 18, 64)         256       \n",
      "_________________________________________________________________\n",
      "dropout_12 (Dropout)         (None, 1, 18, 64)         0         \n",
      "_________________________________________________________________\n",
      "flatten_12 (Flatten)         (None, 1152)              0         \n",
      "_________________________________________________________________\n",
      "dense_61 (Dense)             (None, 512)               590336    \n",
      "_________________________________________________________________\n",
      "batch_normalization_106 (Bat (None, 512)               2048      \n",
      "_________________________________________________________________\n",
      "dense_62 (Dense)             (None, 256)               131328    \n",
      "_________________________________________________________________\n",
      "batch_normalization_107 (Bat (None, 256)               1024      \n",
      "_________________________________________________________________\n",
      "dense_63 (Dense)             (None, 128)               32896     \n",
      "_________________________________________________________________\n",
      "batch_normalization_108 (Bat (None, 128)               512       \n",
      "_________________________________________________________________\n",
      "dense_64 (Dense)             (None, 1)                 129       \n",
      "=================================================================\n",
      "Total params: 890,565\n",
      "Trainable params: 888,301\n",
      "Non-trainable params: 2,264\n",
      "_________________________________________________________________\n",
      "Model: \"sequential_13\"\n",
      "_________________________________________________________________\n",
      "Layer (type)                 Output Shape              Param #   \n",
      "=================================================================\n",
      "lambda_13 (Lambda)           (None, 66, 200, 3)        0         \n",
      "_________________________________________________________________\n",
      "conv2d_66 (Conv2D)           (None, 31, 98, 24)        1824      \n",
      "_________________________________________________________________\n",
      "batch_normalization_101 (Bat (None, 31, 98, 24)        96        \n",
      "_________________________________________________________________\n",
      "conv2d_67 (Conv2D)           (None, 14, 47, 36)        21636     \n",
      "_________________________________________________________________\n",
      "batch_normalization_102 (Bat (None, 14, 47, 36)        144       \n",
      "_________________________________________________________________\n",
      "conv2d_68 (Conv2D)           (None, 5, 22, 48)         43248     \n",
      "_________________________________________________________________\n",
      "batch_normalization_103 (Bat (None, 5, 22, 48)         192       \n",
      "_________________________________________________________________\n",
      "conv2d_69 (Conv2D)           (None, 3, 20, 64)         27712     \n",
      "_________________________________________________________________\n",
      "batch_normalization_104 (Bat (None, 3, 20, 64)         256       \n",
      "_________________________________________________________________\n",
      "conv2d_70 (Conv2D)           (None, 1, 18, 64)         36928     \n",
      "_________________________________________________________________\n",
      "batch_normalization_105 (Bat (None, 1, 18, 64)         256       \n",
      "_________________________________________________________________\n",
      "dropout_12 (Dropout)         (None, 1, 18, 64)         0         \n",
      "_________________________________________________________________\n",
      "flatten_12 (Flatten)         (None, 1152)              0         \n",
      "_________________________________________________________________\n",
      "dense_61 (Dense)             (None, 512)               590336    \n",
      "_________________________________________________________________\n",
      "batch_normalization_106 (Bat (None, 512)               2048      \n",
      "_________________________________________________________________\n",
      "dense_62 (Dense)             (None, 256)               131328    \n",
      "_________________________________________________________________\n",
      "batch_normalization_107 (Bat (None, 256)               1024      \n",
      "_________________________________________________________________\n",
      "dense_63 (Dense)             (None, 128)               32896     \n",
      "_________________________________________________________________\n",
      "batch_normalization_108 (Bat (None, 128)               512       \n",
      "_________________________________________________________________\n",
      "dense_64 (Dense)             (None, 1)                 129       \n",
      "=================================================================\n",
      "Total params: 890,565\n",
      "Trainable params: 888,301\n",
      "Non-trainable params: 2,264\n",
      "_________________________________________________________________\n"
     ]
    }
   ],
   "source": [
    "model = NVIDIA_model()\n",
    "model.summary()"
   ]
  },
  {
   "cell_type": "code",
   "execution_count": 69,
   "metadata": {},
   "outputs": [
    {
     "name": "stdout",
     "output_type": "stream",
     "text": [
      "Model: \"sequential_14\"\n",
      "_________________________________________________________________\n",
      "Layer (type)                 Output Shape              Param #   \n",
      "=================================================================\n",
      "lambda_14 (Lambda)           (None, 66, 200, 3)        0         \n",
      "_________________________________________________________________\n",
      "conv2d_71 (Conv2D)           (None, 31, 98, 24)        1824      \n",
      "_________________________________________________________________\n",
      "batch_normalization_109 (Bat (None, 31, 98, 24)        96        \n",
      "_________________________________________________________________\n",
      "conv2d_72 (Conv2D)           (None, 14, 47, 36)        21636     \n",
      "_________________________________________________________________\n",
      "batch_normalization_110 (Bat (None, 14, 47, 36)        144       \n",
      "_________________________________________________________________\n",
      "conv2d_73 (Conv2D)           (None, 5, 22, 48)         43248     \n",
      "_________________________________________________________________\n",
      "batch_normalization_111 (Bat (None, 5, 22, 48)         192       \n",
      "_________________________________________________________________\n",
      "conv2d_74 (Conv2D)           (None, 3, 20, 64)         27712     \n",
      "_________________________________________________________________\n",
      "batch_normalization_112 (Bat (None, 3, 20, 64)         256       \n",
      "_________________________________________________________________\n",
      "conv2d_75 (Conv2D)           (None, 1, 18, 64)         36928     \n",
      "_________________________________________________________________\n",
      "batch_normalization_113 (Bat (None, 1, 18, 64)         256       \n",
      "_________________________________________________________________\n",
      "dropout_13 (Dropout)         (None, 1, 18, 64)         0         \n",
      "_________________________________________________________________\n",
      "flatten_13 (Flatten)         (None, 1152)              0         \n",
      "_________________________________________________________________\n",
      "dense_65 (Dense)             (None, 512)               590336    \n",
      "_________________________________________________________________\n",
      "batch_normalization_114 (Bat (None, 512)               2048      \n",
      "_________________________________________________________________\n",
      "dense_66 (Dense)             (None, 256)               131328    \n",
      "_________________________________________________________________\n",
      "batch_normalization_115 (Bat (None, 256)               1024      \n",
      "_________________________________________________________________\n",
      "dense_67 (Dense)             (None, 128)               32896     \n",
      "_________________________________________________________________\n",
      "batch_normalization_116 (Bat (None, 128)               512       \n",
      "_________________________________________________________________\n",
      "dense_68 (Dense)             (None, 1)                 129       \n",
      "=================================================================\n",
      "Total params: 890,565\n",
      "Trainable params: 888,301\n",
      "Non-trainable params: 2,264\n",
      "_________________________________________________________________\n"
     ]
    },
    {
     "name": "stderr",
     "output_type": "stream",
     "text": [
      "c:\\Users\\abina\\anaconda3\\envs\\SDC\\lib\\site-packages\\tensorflow\\python\\keras\\engine\\training.py:1844: UserWarning: `Model.fit_generator` is deprecated and will be removed in a future version. Please use `Model.fit`, which supports generators.\n",
      "  warnings.warn('`Model.fit_generator` is deprecated and '\n"
     ]
    },
    {
     "name": "stdout",
     "output_type": "stream",
     "text": [
      "Epoch 1/30\n",
      "2000/2000 [==============================] - 565s 282ms/step - loss: 0.6645 - val_loss: 0.4160\n",
      "Epoch 2/30\n",
      "2000/2000 [==============================] - 525s 263ms/step - loss: 0.4221 - val_loss: 0.3499\n",
      "Epoch 3/30\n",
      "2000/2000 [==============================] - 526s 263ms/step - loss: 0.3468 - val_loss: 0.2684\n",
      "Epoch 4/30\n",
      "2000/2000 [==============================] - 530s 265ms/step - loss: 0.2517 - val_loss: 0.1842\n",
      "Epoch 5/30\n",
      "2000/2000 [==============================] - 532s 266ms/step - loss: 0.1826 - val_loss: 0.1302\n",
      "Epoch 6/30\n",
      "2000/2000 [==============================] - 552s 276ms/step - loss: 0.1438 - val_loss: 0.1089\n",
      "Epoch 7/30\n",
      "2000/2000 [==============================] - 555s 278ms/step - loss: 0.1228 - val_loss: 0.1015\n",
      "Epoch 8/30\n",
      "2000/2000 [==============================] - 474s 237ms/step - loss: 0.1123 - val_loss: 0.0882\n",
      "Epoch 9/30\n",
      "2000/2000 [==============================] - 483s 242ms/step - loss: 0.1042 - val_loss: 0.0861\n",
      "Epoch 10/30\n",
      "2000/2000 [==============================] - 582s 291ms/step - loss: 0.1002 - val_loss: 0.0814\n",
      "Epoch 11/30\n",
      "2000/2000 [==============================] - 605s 303ms/step - loss: 0.0960 - val_loss: 0.0779\n",
      "Epoch 12/30\n",
      "2000/2000 [==============================] - 549s 275ms/step - loss: 0.0946 - val_loss: 0.0744\n",
      "Epoch 13/30\n",
      "2000/2000 [==============================] - 553s 276ms/step - loss: 0.0906 - val_loss: 0.0766\n",
      "Epoch 14/30\n",
      "2000/2000 [==============================] - 576s 288ms/step - loss: 0.0905 - val_loss: 0.0803\n",
      "Epoch 15/30\n",
      "2000/2000 [==============================] - 440s 220ms/step - loss: 0.0892 - val_loss: 0.0726\n",
      "Epoch 16/30\n",
      "2000/2000 [==============================] - 400s 200ms/step - loss: 0.0886 - val_loss: 0.0705\n",
      "Epoch 17/30\n",
      "2000/2000 [==============================] - 395s 198ms/step - loss: 0.0876 - val_loss: 0.0746\n",
      "Epoch 18/30\n",
      "2000/2000 [==============================] - 382s 191ms/step - loss: 0.0872 - val_loss: 0.0790\n",
      "Epoch 19/30\n",
      "2000/2000 [==============================] - 383s 191ms/step - loss: 0.0865 - val_loss: 0.0744\n",
      "Epoch 20/30\n",
      "2000/2000 [==============================] - 376s 188ms/step - loss: 0.0874 - val_loss: 0.0732\n",
      "Epoch 21/30\n",
      "2000/2000 [==============================] - 374s 187ms/step - loss: 0.0837 - val_loss: 0.0704\n",
      "Epoch 22/30\n",
      "2000/2000 [==============================] - 376s 188ms/step - loss: 0.0853 - val_loss: 0.0744\n",
      "Epoch 23/30\n",
      "2000/2000 [==============================] - 382s 191ms/step - loss: 0.0852 - val_loss: 0.0690\n",
      "Epoch 24/30\n",
      "2000/2000 [==============================] - 395s 197ms/step - loss: 0.0842 - val_loss: 0.0697\n",
      "Epoch 25/30\n",
      "2000/2000 [==============================] - 398s 199ms/step - loss: 0.0838 - val_loss: 0.0676\n",
      "Epoch 26/30\n",
      "2000/2000 [==============================] - 400s 200ms/step - loss: 0.0830 - val_loss: 0.0709\n",
      "Epoch 27/30\n",
      "2000/2000 [==============================] - 397s 198ms/step - loss: 0.0817 - val_loss: 0.0658\n",
      "Epoch 28/30\n",
      "2000/2000 [==============================] - 402s 201ms/step - loss: 0.0812 - val_loss: 0.0662\n",
      "Epoch 29/30\n",
      "2000/2000 [==============================] - 381s 190ms/step - loss: 0.0832 - val_loss: 0.0702\n",
      "Epoch 30/30\n",
      "2000/2000 [==============================] - 374s 187ms/step - loss: 0.0836 - val_loss: 0.0687\n"
     ]
    }
   ],
   "source": [
    "model = NVIDIA_model()   \n",
    "\n",
    "callbacks = [\n",
    "    ModelCheckpoint('model.h5', save_best_only=True, monitor='val_loss', mode='min'),\n",
    "    EarlyStopping(monitor='val_loss', patience=10, mode='min', verbose=1),\n",
    "    ReduceLROnPlateau(monitor='val_loss', factor=0.2, patience=5, min_lr=1e-6, mode='min', verbose=1)\n",
    "]\n",
    "\n",
    "checkpoint = ModelCheckpoint('models/model-EP-{epoch:02d}-L-{val_loss:.2f}.h5',monitor='val_loss',save_best_only=True,mode='auto')\n",
    "    \n",
    "history = model.fit_generator(batcher(train_data, train_target, batch_size, True),samples_per_epoch,nb_epoch,\n",
    "                        validation_data=batcher(test_data, test_target, batch_size, False),validation_steps=len(test_data)//batch_size,callbacks=[checkpoint])"
   ]
  },
  {
   "cell_type": "code",
   "execution_count": 70,
   "metadata": {},
   "outputs": [],
   "source": [
    "import matplotlib.pyplot as plt"
   ]
  },
  {
   "cell_type": "code",
   "execution_count": 71,
   "metadata": {},
   "outputs": [
    {
     "data": {
      "image/png": "[encoded data removed]",
      "text/plain": [
       "<Figure size 640x480 with 1 Axes>"
      ]
     },
     "metadata": {},
     "output_type": "display_data"
    }
   ],
   "source": [
    "history_df = pd.DataFrame(history.history)\n",
    "history_df.loc[:, ['loss', 'val_loss']].plot()\n",
    "plt.show()"
   ]
  },
  {
   "cell_type": "code",
   "execution_count": 72,
   "metadata": {},
   "outputs": [
    {
     "name": "stdout",
     "output_type": "stream",
     "text": [
      "Total Trainable Parameters: 888301\n",
      "Model size: 3.40 MB\n"
     ]
    }
   ],
   "source": [
    "trainable_params = np.sum([np.prod(v.get_shape()) for v in model.trainable_weights])\n",
    "print(f'Total Trainable Parameters: {trainable_params}')\n",
    "\n",
    "def get_model_size(model):\n",
    "    params = model.count_params()  \n",
    "    size_in_bytes = params * 4  \n",
    "    size_in_mb = size_in_bytes / (1024 ** 2)  \n",
    "    return size_in_mb\n",
    "\n",
    "model_size_mb = get_model_size(model)\n",
    "print(f'Model size: {model_size_mb:.2f} MB')"
   ]
  }
 ],
 "metadata": {
  "kernelspec": {
   "display_name": "Python 3",
   "language": "python",
   "name": "python3"
  },
  "language_info": {
   "codemirror_mode": {
    "name": "ipython",
    "version": 3
   },
   "file_extension": ".py",
   "mimetype": "text/x-python",
   "name": "python",
   "nbconvert_exporter": "python",
   "pygments_lexer": "ipython3",
   "version": "3.8.5"
  }
 },
 "nbformat": 4,
 "nbformat_minor": 2
}
