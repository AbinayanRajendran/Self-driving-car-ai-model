{
 "cells": [
  {
   "cell_type": "markdown",
   "metadata": {},
   "source": [
    "# References\n",
    "\n",
    "Bojarski, Mariusz& Testa, Davide& Dworakowski, Daniel & Firner, Bernhard & Flepp, Beat & Goyal, Prasoon& Jackel, Larry & Monfort, Mathew & Muller, Urs& Zhang, Jiakai& Zhang, Xin & Zhao, Jake & Zieba, Karol. (2016). End to End Learning for Self-Driving Cars."
   ]
  },
  {
   "cell_type": "markdown",
   "metadata": {},
   "source": [
    "# Installing the Environment\n",
    "\n",
    "1. ```conda create -n self-driving-car```\n",
    "2. ```conda activate self-driving-car```\n",
    "3. ```pip install -r requirements.txt```"
   ]
  },
  {
   "cell_type": "code",
   "execution_count": 22,
   "metadata": {},
   "outputs": [],
   "source": [
    "import os\n",
    "import csv\n",
    "import cv2\n",
    "import matplotlib.pyplot as plt\n",
    "import random"
   ]
  },
  {
   "cell_type": "markdown",
   "metadata": {},
   "source": [
    "OS - Interact with the operating system. It allows you to perform operations such as creating, deleting, renaming files and directories\n",
    "\n",
    "CSV - This module allows you to read and write data in CSV\n"
   ]
  },
  {
   "cell_type": "code",
   "execution_count": 23,
   "metadata": {},
   "outputs": [],
   "source": [
    "data_path='data_02'\n",
    "label_path='data_02/driving_log.csv'"
   ]
  },
  {
   "cell_type": "code",
   "execution_count": null,
   "metadata": {
    "scrolled": true
   },
   "outputs": [],
   "source": [
    "import pandas as pd\n",
    "import numpy as np\n",
    "\n",
    "dataset=pd.read_csv(label_path)\n",
    "dataset.head()"
   ]
  },
  {
   "cell_type": "markdown",
   "metadata": {},
   "source": [
    "**INPUT_SHAPE** is a tuple that combines the height, width, and color channels into a single variable"
   ]
  },
  {
   "cell_type": "code",
   "execution_count": 25,
   "metadata": {},
   "outputs": [],
   "source": [
    "IMAGE_HEIGHT, IMAGE_WIDTH, IMAGE_CHANNELS = 66, 200, 3\n",
    "INPUT_SHAPE = (IMAGE_HEIGHT, IMAGE_WIDTH, IMAGE_CHANNELS)"
   ]
  },
  {
   "cell_type": "markdown",
   "metadata": {},
   "source": [
    "**.vlaues** convert the dataframe to array into numpy array"
   ]
  },
  {
   "cell_type": "code",
   "execution_count": 26,
   "metadata": {},
   "outputs": [],
   "source": [
    "dataset=dataset.values\n",
    "data=dataset[:,0:3]\n",
    "target=dataset[:,3]"
   ]
  },
  {
   "cell_type": "code",
   "execution_count": 27,
   "metadata": {},
   "outputs": [],
   "source": [
    "from sklearn.model_selection import train_test_split\n",
    "train_data,test_data,train_target,test_target=train_test_split(data,target,test_size=0.1)"
   ]
  },
  {
   "cell_type": "code",
   "execution_count": 28,
   "metadata": {},
   "outputs": [],
   "source": [
    "def load_image(data_dir):\n",
    "\n",
    "    img=cv2.imread(data_dir)\n",
    "    img=cv2.cvtColor(img,cv2.COLOR_BGR2RGB)\n",
    "    \n",
    "    return img"
   ]
  },
  {
   "cell_type": "markdown",
   "metadata": {},
   "source": [
    "1.  image cropping by removing the top 60 rows and bottom 25 rows from the input image. **:** selects all columns and color channels\n",
    "2. **cv2.INTER_AREA** flag specifies the interpolation method used for resizing, which is suitable for shrinking images."
   ]
  },
  {
   "cell_type": "code",
   "execution_count": 29,
   "metadata": {},
   "outputs": [],
   "source": [
    "def preprocess(img):\n",
    "\n",
    "    # Cropping the image\n",
    "    img = img[60:-25, :, :]\n",
    "    # Resizing the image\n",
    "    img = cv2.resize(img, (IMAGE_WIDTH, IMAGE_HEIGHT), cv2.INTER_AREA)\n",
    "    # Converting the image to YUV\n",
    "    img = cv2.cvtColor(img, cv2.COLOR_RGB2YUV)\n",
    "    return img"
   ]
  },
  {
   "cell_type": "markdown",
   "metadata": {},
   "source": [
    "1. **np.random.choice(3)** randomly selects an integer from 0, 1, or 2 with equal probability.\n",
    "If the randomly chosen integer is 0, the function returns the center image **(load_image(center))** and the original steering angle (steering_angle) without any modification.\n",
    "2. If the randomly chosen integer is 1, the function returns the left image **(load_image(left))** and adjusts the steering angle by adding 0.2 **(steering_angle + 0.2)**.\n",
    "3. If the randomly chosen integer is 2, the function returns the right image **(load_image(right))** and adjusts the steering angle by subtracting 0.2 **(steering_angle - 0.2)**."
   ]
  },
  {
   "cell_type": "code",
   "execution_count": 30,
   "metadata": {},
   "outputs": [],
   "source": [
    "def random_adjust(center, left, right, steering_angle):\n",
    "\n",
    "    choice = np.random.choice(3)\n",
    "    \n",
    "    if choice == 0:\n",
    "        \n",
    "        return load_image(center), steering_angle\n",
    "    \n",
    "    elif choice == 1:\n",
    "        \n",
    "        return load_image(left), steering_angle + 0.2\n",
    "    \n",
    "    else:\n",
    "    \n",
    "        return load_image(right), steering_angle - 0.2"
   ]
  },
  {
   "cell_type": "code",
   "execution_count": 31,
   "metadata": {},
   "outputs": [],
   "source": [
    "def display(image, angle, label):\n",
    "    plt.imshow(image)\n",
    "    plt.xlabel(\"Steering angle: {:.5f}\".format(angle))\n",
    "    plt.title(label)\n",
    "    plt.xticks([])\n",
    "    plt.yticks([])\n",
    "    plt.show()"
   ]
  },
  {
   "cell_type": "markdown",
   "metadata": {},
   "source": [
    "**random_flip** function performs random horizontal flipping of input images and adjusts the corresponding steering angle. Its one of the agumentation technique used.\n",
    "\n",
    "**np.random.rand() < 0.5** random number between 0 and 1 using NumPy's random number generator. If the random number is less than 0.5, the condition is true, and the image will be flipped horizontally\n",
    "\n",
    "A positive steering angle typically means turning right, and a negative steering angle means turning left"
   ]
  },
  {
   "cell_type": "code",
   "execution_count": 32,
   "metadata": {},
   "outputs": [],
   "source": [
    "def random_flip(image, steering_angle):\n",
    "\n",
    "    if np.random.rand() < 0.5:\n",
    "        image = cv2.flip(image, 1)\n",
    "        steering_angle = -steering_angle\n",
    "    return image, steering_angle"
   ]
  },
  {
   "cell_type": "markdown",
   "metadata": {},
   "source": [
    "Randomly translating the images during training\n",
    "\n",
    "**random_shift** function performs random translational shifting of input images and adjusts the corresponding steering angle. it generates two random values, **trans_x** and **trans_y**, within the specified ranges using np.**random.rand()**. Then adjusts the **steering_angle** based on the **trans_x** offset (adjustment is important because translating the image horizontally affects the perceived steering angle)\n",
    "\n",
    "**cv2.warpAffine** is used to apply the translational transformation to the input image. The function returns the transformed image and the adjusted steering angle"
   ]
  },
  {
   "cell_type": "code",
   "execution_count": 33,
   "metadata": {},
   "outputs": [],
   "source": [
    "def random_shift(image, steering_angle, range_x, range_y):\n",
    "\n",
    "    trans_x = range_x * (np.random.rand() - 0.5)\n",
    "    trans_y = range_y * (np.random.rand() - 0.5)\n",
    "    steering_angle += trans_x * 0.002\n",
    "    trans_m = np.float32([[1, 0, trans_x], [0, 1, trans_y]])\n",
    "    height, width = image.shape[:2]\n",
    "    image = cv2.warpAffine(image, trans_m, (width, height))\n",
    "    return image, steering_angle"
   ]
  },
  {
   "cell_type": "markdown",
   "metadata": {},
   "source": [
    "Below function takes an input image and starts by defining a **bright_factor** of 0.3, which will be used to darken a random region of the image, simulating a shadow effect.\n",
    "\n",
    "Then generates random coordinates (x, y) and dimensions (width, height) for a rectangular region within the input image. heAfter that it converts the input image from the **RGB** colour space to the **HSV** colour space using **cv2.cvtColor**. (it important to shadowing effect will be applied to the Value (V) channel of the HSV image)"
   ]
  },
  {
   "cell_type": "code",
   "execution_count": 34,
   "metadata": {},
   "outputs": [],
   "source": [
    "def random_shadow(image):\n",
    "\n",
    "    bright_factor = 0.3\n",
    "    x = random.randint(0, image.shape[1])\n",
    "    y = random.randint(0, image.shape[0])\n",
    "    width = random.randint(image.shape[1], image.shape[1])\n",
    "    if(x + width > image.shape[1]):\n",
    "        x = image.shape[1] - x\n",
    "    height = random.randint(image.shape[0], image.shape[0])\n",
    "    if(y + height > image.shape[0]):\n",
    "        y = image.shape[0] - y\n",
    "    image = cv2.cvtColor(image, cv2.COLOR_RGB2HSV)\n",
    "    image[y:y+height,x:x+width,2] = image[y:y+height,x:x+width,2]*bright_factor\n",
    "    return cv2.cvtColor(image, cv2.COLOR_HSV2RGB)"
   ]
  },
  {
   "cell_type": "markdown",
   "metadata": {},
   "source": [
    "**random_brightness** - This function randomly adjusts the brightness of the input image, simulating varying lighting conditions. \n",
    "\n",
    "If the ratio is greater than 1.0, the pixels will become brighter, creating a overexposed img. If the ratio is less than 1.0, the pixels will become darker, creating a  underexposed img."
   ]
  },
  {
   "cell_type": "code",
   "execution_count": 35,
   "metadata": {},
   "outputs": [],
   "source": [
    "def random_brightness(image):\n",
    "\n",
    "    # HSV (Hue, Saturation, Value) is also called HSB ('B' for Brightness).\n",
    "    hsv = cv2.cvtColor(image, cv2.COLOR_RGB2HSV)\n",
    "    ratio = 1.0 + (np.random.rand() - 0.5)\n",
    "    hsv[:,:,2] =  hsv[:,:,2] * ratio\n",
    "    return cv2.cvtColor(hsv, cv2.COLOR_HSV2RGB)"
   ]
  },
  {
   "cell_type": "markdown",
   "metadata": {},
   "source": [
    "# Augmentation Function"
   ]
  },
  {
   "cell_type": "markdown",
   "metadata": {},
   "source": [
    " Here the below function that combines multiple data augmentation techniques to create a diverse set of augmented images and corresponding steering angles from the input center, left, and right camera images and the initial steering angle. \n",
    "\n",
    " After applying all these data augmentation techniques, the function returns the augmented image and the corresponding adjusted steering angle."
   ]
  },
  {
   "cell_type": "code",
   "execution_count": 36,
   "metadata": {},
   "outputs": [],
   "source": [
    "def augument(center, left, right, steering_angle, range_x=100, range_y=10):\n",
    "\n",
    "    image, steering_angle = random_adjust(center, left, right, steering_angle)\n",
    "    image, steering_angle = random_flip(image, steering_angle)\n",
    "    image, steering_angle = random_shift(image, steering_angle, range_x, range_y)\n",
    "    image = random_shadow(image)\n",
    "    image = random_brightness(image)\n",
    "    return image, steering_angle"
   ]
  },
  {
   "cell_type": "markdown",
   "metadata": {},
   "source": [
    "# Nvidia CNN"
   ]
  },
  {
   "cell_type": "code",
   "execution_count": 37,
   "metadata": {},
   "outputs": [],
   "source": [
    "# from keras.models import Sequential\n",
    "# from keras.optimizers import Adam\n",
    "# from keras.callbacks import ModelCheckpoint\n",
    "# from keras.layers import Lambda, Conv2D, MaxPooling2D, Dropout, Dense, Flatten\n",
    "# from keras.regularizers import l2\n",
    "\n",
    "# def NVIDIA_model():\n",
    "    \n",
    "#     model = Sequential()\n",
    "#     model.add(Lambda(lambda x: x/127.5-1.0, input_shape=INPUT_SHAPE))\n",
    "#     model.add(Conv2D(24, (5, 5), activation='elu', strides=(2, 2)))\n",
    "#     model.add(Conv2D(36, (5, 5), activation='elu', strides=(2, 2)))\n",
    "#     model.add(Conv2D(48, (5, 5), activation='elu', strides=(2, 2)))\n",
    "#     model.add(Conv2D(64, (3, 3), activation='elu'))\n",
    "#     model.add(Conv2D(64, (3, 3), activation='elu'))\n",
    "#     model.add(Dropout(0.5))\n",
    "#     model.add(Flatten())\n",
    "#     model.add(Dense(100, activation='elu'))\n",
    "#     model.add(Dense(50, activation='elu'))\n",
    "#     model.add(Dense(10, activation='elu'))\n",
    "#     model.add(Dense(1))\n",
    "#     #model.summary()\n",
    "    \n",
    "#     model.compile(loss='mse', optimizer=Adam(lr=1.0e-4))\n",
    "    \n",
    "#     return model\n",
    "\n",
    "# model.summary()"
   ]
  },
  {
   "cell_type": "code",
   "execution_count": 38,
   "metadata": {},
   "outputs": [],
   "source": [
    "from keras.layers import BatchNormalization"
   ]
  },
  {
   "cell_type": "code",
   "execution_count": 39,
   "metadata": {},
   "outputs": [],
   "source": [
    "from keras.models import Sequential\n",
    "from keras.optimizers import Adam\n",
    "from keras.callbacks import ModelCheckpoint, EarlyStopping, ReduceLROnPlateau\n",
    "from keras.layers import Lambda, Conv2D, MaxPooling2D, Dropout, Dense, Flatten\n",
    "from keras.regularizers import l2\n",
    "\n",
    "def NVIDIA_model():\n",
    "    model = Sequential()\n",
    "    model.add(Lambda(lambda x: x / 127.5 - 1.0, input_shape=INPUT_SHAPE))\n",
    "    model.add(Conv2D(24, (5, 5), activation='elu', strides=(2, 2), kernel_regularizer=l2(0.0001)))\n",
    "    model.add(BatchNormalization())\n",
    "    model.add(Conv2D(36, (5, 5), activation='elu', strides=(2, 2), kernel_regularizer=l2(0.0001)))\n",
    "    model.add(BatchNormalization())\n",
    "    model.add(Conv2D(48, (5, 5), activation='elu', strides=(2, 2), kernel_regularizer=l2(0.0001)))\n",
    "    model.add(BatchNormalization())\n",
    "    model.add(Conv2D(64, (3, 3), activation='elu', kernel_regularizer=l2(0.0001)))\n",
    "    model.add(BatchNormalization())\n",
    "    model.add(Conv2D(64, (3, 3), activation='elu', kernel_regularizer=l2(0.0001)))\n",
    "    model.add(BatchNormalization())\n",
    "    model.add(Dropout(0.5))\n",
    "    model.add(Flatten())\n",
    "    model.add(Dense(100, activation='elu', kernel_regularizer=l2(0.0001)))\n",
    "    model.add(BatchNormalization())\n",
    "    model.add(Dense(50, activation='elu', kernel_regularizer=l2(0.0001)))\n",
    "    model.add(BatchNormalization())\n",
    "    model.add(Dense(10, activation='elu', kernel_regularizer=l2(0.0001)))\n",
    "    model.add(BatchNormalization())\n",
    "    model.add(Dense(1))\n",
    "    \n",
    "    model.compile(loss='mse', optimizer=Adam(lr=1.0e-4))\n",
    "    \n",
    "    return model"
   ]
  },
  {
   "cell_type": "markdown",
   "metadata": {},
   "source": [
    "This is a Generator function that is used to create batches of input data (images and corresponding steering angles) for training or evaluation.\n",
    "\n",
    "The **batcher** function is designed to be used in a loop or with other data loading mechanisms to continuously generate batches of data for training or evaluation. During training, the function applies various data augmentation techniques to the input images with a **60%** probability, which helps increase the diversity of the training data and improve the model's generalization ability"
   ]
  },
  {
   "cell_type": "code",
   "execution_count": 40,
   "metadata": {},
   "outputs": [],
   "source": [
    "def batcher(image_paths, steering_angles, batch_size, training_flag):\n",
    "\n",
    "    images = np.empty([batch_size, IMAGE_HEIGHT, IMAGE_WIDTH, IMAGE_CHANNELS])\n",
    "    steers = np.empty(batch_size)\n",
    "    while True:\n",
    "        i = 0\n",
    "        for index in np.random.permutation(image_paths.shape[0]):\n",
    "            center, left, right = image_paths[index]\n",
    "            steering_angle = steering_angles[index]\n",
    "            if training_flag and np.random.rand() < 0.6:\n",
    "                image, steering_angle = augument(center, left, right, steering_angle)\n",
    "            else:\n",
    "                image = load_image(center) \n",
    "            images[i] = preprocess(image)\n",
    "            steers[i] = steering_angle\n",
    "            i += 1\n",
    "            if i == batch_size:\n",
    "                break\n",
    "        yield images, steers"
   ]
  },
  {
   "cell_type": "code",
   "execution_count": 41,
   "metadata": {},
   "outputs": [],
   "source": [
    "batch_size = 20\n",
    "samples_per_epoch = 2000\n",
    "nb_epoch = 30"
   ]
  },
  {
   "cell_type": "code",
   "execution_count": 42,
   "metadata": {},
   "outputs": [
    {
     "name": "stderr",
     "output_type": "stream",
     "text": [
      "c:\\Users\\udula\\anaconda3\\envs\\self-driving-car\\lib\\site-packages\\tensorflow\\python\\keras\\engine\\training.py:1844: UserWarning: `Model.fit_generator` is deprecated and will be removed in a future version. Please use `Model.fit`, which supports generators.\n",
      "  warnings.warn('`Model.fit_generator` is deprecated and '\n"
     ]
    },
    {
     "name": "stdout",
     "output_type": "stream",
     "text": [
      "Epoch 1/30\n",
      "2000/2000 [==============================] - 165s 82ms/step - loss: 0.4929 - val_loss: 0.1175\n",
      "Epoch 2/30\n",
      "2000/2000 [==============================] - 176s 88ms/step - loss: 0.1492 - val_loss: 0.1156\n",
      "Epoch 3/30\n",
      "2000/2000 [==============================] - 177s 88ms/step - loss: 0.1408 - val_loss: 0.1190\n",
      "Epoch 4/30\n",
      "2000/2000 [==============================] - 166s 83ms/step - loss: 0.1345 - val_loss: 0.1001\n",
      "Epoch 5/30\n",
      "2000/2000 [==============================] - 160s 80ms/step - loss: 0.1281 - val_loss: 0.0993\n",
      "Epoch 6/30\n",
      "2000/2000 [==============================] - 157s 78ms/step - loss: 0.1221 - val_loss: 0.0937\n",
      "Epoch 7/30\n",
      "2000/2000 [==============================] - 188s 94ms/step - loss: 0.1166 - val_loss: 0.0951\n",
      "Epoch 8/30\n",
      "2000/2000 [==============================] - 172s 86ms/step - loss: 0.1121 - val_loss: 0.0856\n",
      "Epoch 9/30\n",
      "2000/2000 [==============================] - 166s 83ms/step - loss: 0.1104 - val_loss: 0.0842\n",
      "Epoch 10/30\n",
      "2000/2000 [==============================] - 180s 90ms/step - loss: 0.1044 - val_loss: 0.0831\n",
      "Epoch 11/30\n",
      "2000/2000 [==============================] - 188s 94ms/step - loss: 0.1014 - val_loss: 0.0787\n",
      "Epoch 12/30\n",
      "2000/2000 [==============================] - 181s 90ms/step - loss: 0.0989 - val_loss: 0.0786\n",
      "Epoch 13/30\n",
      "2000/2000 [==============================] - 167s 84ms/step - loss: 0.0979 - val_loss: 0.0764\n",
      "Epoch 14/30\n",
      "2000/2000 [==============================] - 164s 82ms/step - loss: 0.0964 - val_loss: 0.0757\n",
      "Epoch 15/30\n",
      "2000/2000 [==============================] - 164s 82ms/step - loss: 0.0943 - val_loss: 0.0735\n",
      "Epoch 16/30\n",
      "2000/2000 [==============================] - 163s 82ms/step - loss: 0.0900 - val_loss: 0.0755\n",
      "Epoch 17/30\n",
      "2000/2000 [==============================] - 170s 85ms/step - loss: 0.0907 - val_loss: 0.0735\n",
      "Epoch 18/30\n",
      "2000/2000 [==============================] - 169s 85ms/step - loss: 0.0899 - val_loss: 0.0726\n",
      "Epoch 19/30\n",
      "2000/2000 [==============================] - 171s 85ms/step - loss: 0.0877 - val_loss: 0.0700\n",
      "Epoch 20/30\n",
      "2000/2000 [==============================] - 168s 84ms/step - loss: 0.0866 - val_loss: 0.0696\n",
      "Epoch 21/30\n",
      "2000/2000 [==============================] - 168s 84ms/step - loss: 0.0847 - val_loss: 0.0679\n",
      "Epoch 22/30\n",
      "2000/2000 [==============================] - 170s 85ms/step - loss: 0.0840 - val_loss: 0.0685\n",
      "Epoch 23/30\n",
      "2000/2000 [==============================] - 174s 87ms/step - loss: 0.0835 - val_loss: 0.0670\n",
      "Epoch 24/30\n",
      "2000/2000 [==============================] - 168s 84ms/step - loss: 0.0828 - val_loss: 0.0694\n",
      "Epoch 25/30\n",
      "2000/2000 [==============================] - 165s 83ms/step - loss: 0.0813 - val_loss: 0.0690\n",
      "Epoch 26/30\n",
      "2000/2000 [==============================] - 165s 82ms/step - loss: 0.0799 - val_loss: 0.0653\n",
      "Epoch 27/30\n",
      "2000/2000 [==============================] - 170s 85ms/step - loss: 0.0801 - val_loss: 0.0690\n",
      "Epoch 28/30\n",
      "2000/2000 [==============================] - 170s 85ms/step - loss: 0.0804 - val_loss: 0.0666\n",
      "Epoch 29/30\n",
      "2000/2000 [==============================] - 167s 84ms/step - loss: 0.0784 - val_loss: 0.0695\n",
      "Epoch 30/30\n",
      "2000/2000 [==============================] - 168s 84ms/step - loss: 0.0798 - val_loss: 0.0660\n"
     ]
    }
   ],
   "source": [
    "model = NVIDIA_model()   \n",
    "\n",
    "callbacks = [\n",
    "    ModelCheckpoint('model.h5', save_best_only=True, monitor='val_loss', mode='min'),\n",
    "    EarlyStopping(monitor='val_loss', patience=10, mode='min', verbose=1),\n",
    "    ReduceLROnPlateau(monitor='val_loss', factor=0.2, patience=5, min_lr=1e-6, mode='min', verbose=1)\n",
    "]\n",
    "\n",
    "checkpoint = ModelCheckpoint('models/model-EP-{epoch:02d}-L-{val_loss:.2f}.h5',monitor='val_loss',save_best_only=True,mode='auto')\n",
    "    \n",
    "history = model.fit_generator(batcher(train_data, train_target, batch_size, True),samples_per_epoch,nb_epoch,\n",
    "                        validation_data=batcher(test_data, test_target, batch_size, False),validation_steps=len(test_data)//batch_size,callbacks=[checkpoint])"
   ]
  },
  {
   "cell_type": "code",
   "execution_count": 44,
   "metadata": {},
   "outputs": [
    {
     "data": {
      "image/png": "[encoded data removed]",
      "text/plain": [
       "<Figure size 640x480 with 1 Axes>"
      ]
     },
     "metadata": {},
     "output_type": "display_data"
    }
   ],
   "source": [
    "history_df = pd.DataFrame(history.history)\n",
    "history_df.loc[:, ['loss', 'val_loss']].plot()\n",
    "plt.show()\n"
   ]
  },
  {
   "cell_type": "code",
   "execution_count": 45,
   "metadata": {},
   "outputs": [
    {
     "name": "stdout",
     "output_type": "stream",
     "text": [
      "Total Trainable Parameters: 253011\n",
      "Model size: 0.97 MB\n"
     ]
    }
   ],
   "source": [
    "trainable_params = np.sum([np.prod(v.get_shape()) for v in model.trainable_weights])\n",
    "print(f'Total Trainable Parameters: {trainable_params}')\n",
    "\n",
    "def get_model_size(model):\n",
    "    params = model.count_params()  \n",
    "    size_in_bytes = params * 4  \n",
    "    size_in_mb = size_in_bytes / (1024 ** 2)  \n",
    "    return size_in_mb\n",
    "\n",
    "model_size_mb = get_model_size(model)\n",
    "print(f'Model size: {model_size_mb:.2f} MB')"
   ]
  }
 ],
 "metadata": {
  "kernelspec": {
   "display_name": "Python 3",
   "language": "python",
   "name": "python3"
  },
  "language_info": {
   "codemirror_mode": {
    "name": "ipython",
    "version": 3
   },
   "file_extension": ".py",
   "mimetype": "text/x-python",
   "name": "python",
   "nbconvert_exporter": "python",
   "pygments_lexer": "ipython3",
   "version": "3.8.5"
  }
 },
 "nbformat": 4,
 "nbformat_minor": 2
}
